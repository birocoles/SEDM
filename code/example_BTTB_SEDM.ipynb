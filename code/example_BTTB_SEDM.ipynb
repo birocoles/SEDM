{
 "cells": [
  {
   "cell_type": "markdown",
   "id": "fifteen-sweden",
   "metadata": {},
   "source": [
    "# Example of BTTB Squared Euclidean Distance Matrix (SEDM)"
   ]
  },
  {
   "cell_type": "markdown",
   "id": "separated-pastor",
   "metadata": {},
   "source": [
    "This notebook illustrates an SEDM computed with observation points and sources arranged on the same y-oriented $3 \\times 4$ horizontal grid. In this case, the SEDM is a BTTB formed by $3 \\times 3$ blocks with shape $4 \\times 4$."
   ]
  },
  {
   "cell_type": "markdown",
   "id": "supposed-clock",
   "metadata": {},
   "source": [
    "### Import required stuff"
   ]
  },
  {
   "cell_type": "code",
   "execution_count": 1,
   "id": "lasting-mayor",
   "metadata": {},
   "outputs": [],
   "source": [
    "import numpy as np\n",
    "import matplotlib.pyplot as plt\n",
    "import sedm"
   ]
  },
  {
   "cell_type": "markdown",
   "id": "spare-classic",
   "metadata": {},
   "source": [
    "### Define the computation points"
   ]
  },
  {
   "cell_type": "code",
   "execution_count": 3,
   "id": "earned-discharge",
   "metadata": {},
   "outputs": [],
   "source": [
    "# x1, x2, y1, y2 (in meters)\n",
    "area = [10, 40, 10, 30]\n",
    "\n",
    "# Nx, Ny\n",
    "shape = (4, 3)"
   ]
  },
  {
   "cell_type": "code",
   "execution_count": 9,
   "id": "suitable-import",
   "metadata": {},
   "outputs": [],
   "source": [
    "# Define the coordinates xp, yp, zp of the observation points\n",
    "xp = np.linspace(area[0], area[1], shape[0])\n",
    "yp = np.linspace(area[2], area[3], shape[1])\n",
    "\n",
    "#xp, yp = np.meshgrid(xp, yp) # x-oriented grid\n",
    "yp, xp = np.meshgrid(yp, xp) # y-oriented grid\n",
    "xp = np.ravel(xp)\n",
    "yp = np.ravel(yp)\n",
    "zp = np.zeros_like(xp)\n",
    "\n",
    "# Matrix of observation points\n",
    "P = np.vstack([xp, yp, zp])"
   ]
  },
  {
   "cell_type": "code",
   "execution_count": 10,
   "id": "developmental-gates",
   "metadata": {},
   "outputs": [
    {
     "data": {
      "text/plain": [
       "(3, 12)"
      ]
     },
     "execution_count": 10,
     "metadata": {},
     "output_type": "execute_result"
    }
   ],
   "source": [
    "P.shape"
   ]
  },
  {
   "cell_type": "code",
   "execution_count": 11,
   "id": "interesting-lloyd",
   "metadata": {},
   "outputs": [
    {
     "data": {
      "text/plain": [
       "array([[10., 10., 10., 20., 20., 20., 30., 30., 30., 40., 40., 40.],\n",
       "       [10., 20., 30., 10., 20., 30., 10., 20., 30., 10., 20., 30.],\n",
       "       [ 0.,  0.,  0.,  0.,  0.,  0.,  0.,  0.,  0.,  0.,  0.,  0.]])"
      ]
     },
     "execution_count": 11,
     "metadata": {},
     "output_type": "execute_result"
    }
   ],
   "source": [
    "# Note that the points are arranged in an y-oriented grid\n",
    "P"
   ]
  },
  {
   "cell_type": "code",
   "execution_count": 12,
   "id": "civilian-figure",
   "metadata": {},
   "outputs": [
    {
     "name": "stdout",
     "output_type": "stream",
     "text": [
      "[[ 8  9 10 11]\n",
      " [ 4  5  6  7]\n",
      " [ 0  1  2  3]]\n"
     ]
    }
   ],
   "source": [
    "# Point indices\n",
    "print(np.arange(shape[0]*shape[1]).reshape(shape[::-1])[::-1,:])"
   ]
  },
  {
   "cell_type": "markdown",
   "id": "saving-motivation",
   "metadata": {},
   "source": [
    "### Define the sources"
   ]
  },
  {
   "cell_type": "code",
   "execution_count": 13,
   "id": "rural-reason",
   "metadata": {},
   "outputs": [],
   "source": [
    "# Define the coordinates xs, ys, zs of the sources\n",
    "xs = np.copy(xp)\n",
    "ys = np.copy(yp)\n",
    "zs = zp + 10"
   ]
  },
  {
   "cell_type": "code",
   "execution_count": 14,
   "id": "determined-vatican",
   "metadata": {},
   "outputs": [],
   "source": [
    "# Matrix of sources\n",
    "S = np.vstack([xs, ys, zs])"
   ]
  },
  {
   "cell_type": "code",
   "execution_count": 15,
   "id": "logical-cleanup",
   "metadata": {},
   "outputs": [
    {
     "data": {
      "text/plain": [
       "(3, 12)"
      ]
     },
     "execution_count": 15,
     "metadata": {},
     "output_type": "execute_result"
    }
   ],
   "source": [
    "S.shape"
   ]
  },
  {
   "cell_type": "code",
   "execution_count": 16,
   "id": "infinite-religious",
   "metadata": {},
   "outputs": [
    {
     "data": {
      "text/plain": [
       "array([[10., 10., 10., 20., 20., 20., 30., 30., 30., 40., 40., 40.],\n",
       "       [10., 20., 30., 10., 20., 30., 10., 20., 30., 10., 20., 30.],\n",
       "       [10., 10., 10., 10., 10., 10., 10., 10., 10., 10., 10., 10.]])"
      ]
     },
     "execution_count": 16,
     "metadata": {},
     "output_type": "execute_result"
    }
   ],
   "source": [
    "S"
   ]
  },
  {
   "cell_type": "markdown",
   "id": "different-wrestling",
   "metadata": {},
   "source": [
    "### Squared Euclidean Distance Matrix D"
   ]
  },
  {
   "cell_type": "code",
   "execution_count": 17,
   "id": "italian-corrections",
   "metadata": {},
   "outputs": [],
   "source": [
    "# Since the computation points are arranged in an y-oriented grid\n",
    "# and there is a source below each point, the matrix D is a BTTB formed\n",
    "# by Nx x Nx blocks with shape Ny x Ny\n",
    "D = sedm.avoid_sqrt_inner_loops(P, S)"
   ]
  },
  {
   "cell_type": "code",
   "execution_count": 21,
   "id": "cellular-robert",
   "metadata": {},
   "outputs": [
    {
     "data": {
      "image/png": "[encoded data removed]",
      "text/plain": [
       "<Figure size 432x432 with 2 Axes>"
      ]
     },
     "metadata": {
      "needs_background": "light"
     },
     "output_type": "display_data"
    }
   ],
   "source": [
    "# The number of blocks is defined by the number of points along x-axis\n",
    "N_blocks = shape[0]\n",
    "\n",
    "# the number of points per block is defined by the number of points along y-axis\n",
    "N_points_per_block = shape[1]\n",
    "\n",
    "# Plot the SEDM D\n",
    "plt.figure(figsize=(6,6))\n",
    "plt.title('BTTB SEDM', fontsize=18)\n",
    "#plt.matshow(D, fignum=0, vmin = 0, vmax = 20, cmap='gist_rainbow_r')\n",
    "plt.matshow(D, fignum=0, vmin = 0, cmap='gist_rainbow_r')\n",
    "plt.colorbar(shrink=0.82)\n",
    "plt.xticks(ticks=np.arange(N_blocks)*N_points_per_block - 0.5, labels=[])\n",
    "plt.yticks(ticks=np.arange(N_blocks)*N_points_per_block - 0.5, labels=[])\n",
    "plt.grid(color='k', linewidth=2)\n",
    "plt.show()"
   ]
  },
  {
   "cell_type": "code",
   "execution_count": null,
   "id": "extensive-swiss",
   "metadata": {},
   "outputs": [],
   "source": []
  }
 ],
 "metadata": {
  "kernelspec": {
   "display_name": "Python 3",
   "language": "python",
   "name": "python3"
  },
  "language_info": {
   "codemirror_mode": {
    "name": "ipython",
    "version": 3
   },
   "file_extension": ".py",
   "mimetype": "text/x-python",
   "name": "python",
   "nbconvert_exporter": "python",
   "pygments_lexer": "ipython3",
   "version": "3.7.7"
  }
 },
 "nbformat": 4,
 "nbformat_minor": 5
}
