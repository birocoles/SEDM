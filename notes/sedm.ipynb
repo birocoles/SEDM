{
 "cells": [
  {
   "cell_type": "markdown",
   "id": "a8104981",
   "metadata": {},
   "source": [
    "# Squared Euclidean Distance Matrix (SEDM)"
   ]
  },
  {
   "cell_type": "markdown",
   "id": "4c3a3450",
   "metadata": {},
   "source": [
    "Let $\\mathbf{P}$ be a $3 \\times N$ real matrix given by:\n",
    "\n",
    "$$\n",
    "\\mathbf{P} = \\begin{bmatrix} \n",
    "\\mathbf{p}_{0} & \\cdots & \\mathbf{p}_{N-1}\n",
    "\\end{bmatrix}_{3 \\times N} \\: ,\n",
    "$$\n",
    "\n",
    "with columns\n",
    "$\\mathbf{p}_{i} = \\begin{bmatrix} x_{i} & y_{i} & z_{i} \\end{bmatrix}^{\\top}$, $\\: i = 0, \\dots, N-1$,\n",
    "defined by points $(x_{i}, y_{i}, z_{i})$ referred to a Cartesian coordinate system. Similarly,\n",
    "let $\\mathbf{S}$ be a $3 \\times M$ real matrix given by:\n",
    "\n",
    "$$\n",
    "\\mathbf{S} = \\begin{bmatrix} \n",
    "\\mathbf{s}_{0} & \\cdots & \\mathbf{s}_{M-1}\n",
    "\\end{bmatrix}_{3 \\times M} \\: ,\n",
    "$$\n",
    "\n",
    "with columns\n",
    "$\\mathbf{s}_{j} = \\begin{bmatrix} x'_{j} & y'_{j} & z'_{j} \\end{bmatrix}^{\\top}$, $\\: j = 0, \\dots, M-1$.\n",
    "\n",
    "From $\\mathbf{P}$ and $\\mathbf{S}$, we can define the **Squared Euclidean Distance Matrix (SEDM)** matrix:\n",
    "\n",
    "$$\n",
    "\\mathbf{D} = \\begin{bmatrix}\n",
    "d^{2}_{00} & \\cdots & d^{2}_{0(M-1)} \\\\\n",
    "\\vdots     &        & \\vdots         \\\\\n",
    "d^{2}_{(N-1)0} & \\cdots & d^{2}_{(N-1)(M-1)}\n",
    "\\end{bmatrix}_{N \\times M} \\: ,\n",
    "$$\n",
    "\n",
    "with element $ij$ \n",
    "\n",
    "$$\n",
    "d^{2}_{ij} = (x_{i} - x'_{j})^{2} + (y_{i} - y'_{j})^{2} + (z_{i} - z'_{j})^{2}\n",
    "$$\n",
    "\n",
    "defined as the **squared Euclidean distance** between points the $(x_{i}, y_{i}, z_{i})$ and $(x'_{j}, y'_{j}, z'_{j})$. "
   ]
  },
  {
   "cell_type": "markdown",
   "id": "5836af5d",
   "metadata": {},
   "source": [
    "The simplest pseudo-code for computing the SEDM is given by:"
   ]
  },
  {
   "cell_type": "markdown",
   "id": "72a141a6",
   "metadata": {},
   "source": [
    "    def sedm_dumb(P, S):\n",
    "\n",
    "        cols_P, N = shape(P)\n",
    "        cols_S, M = shape(S)\n",
    "\n",
    "        D = zeros(N, M)\n",
    "\n",
    "        for i = 0:N-1\n",
    "            for j = 0:M-1\n",
    "                D[i,j] = (P[0,i] - S[0,j])**2 + (P[1,i] - S[1,j])**2 + (P[2,i] - S[2,j])**2\n",
    "        \n",
    "        return D"
   ]
  },
  {
   "cell_type": "markdown",
   "id": "7c6b431a",
   "metadata": {},
   "source": [
    "where \n",
    "\n",
    "* `D[i,j]` represents the squared Euclidean distance $d^{2}_{ij}$\n",
    "* `P[0,i]` represents the coordinate $x_{i}$\n",
    "* `P[1,i]` represents the coordinate $y_{i}$\n",
    "* `P[2,i]` represents the coordinate $z_{i}$\n",
    "* `S[0,j]` represents the coordinate $x'_{j}$\n",
    "* `S[1,j]` represents the coordinate $y'_{j}$\n",
    "* `S[2,j]` represents the coordinate $z'_{j}$"
   ]
  },
  {
   "cell_type": "markdown",
   "id": "e0e18270",
   "metadata": {},
   "source": [
    "As we have already seen in the previous classes, we need avoid \"nested fors\" in order to improve the computational efficiency. To do this in the code above, lets first rewrite the $d^{2}_{ij}$ as follows:\n",
    "\n",
    "$$\n",
    "\\begin{split}\n",
    "d^{2}_{ij} &= (x_{i} - x'_{j})^{2} + (y_{i} - y'_{j})^{2} + (z_{i} - z'_{j})^{2} \\\\\n",
    "&= (x^{2}_{i} - 2 \\, x_{i} \\, x'_{j} + x'^{2}_{j}) + (y^{2}_{i} - 2 \\, y_{i} \\, y'_{j} + y'^{2}_{j}) + (z^{2}_{i} - 2 \\, z_{i} \\, z'_{j} + z'^{2}_{j}) \\\\\n",
    "&= (x^{2}_{i} + y^{2}_{i} + z^{2}_{i}) + (x'^{2}_{j} + y'^{2}_{j} + z'^{2}_{j}) - 2 \\, (x_{i} \\, x'_{j} + y_{i} \\, y'_{j} + z_{i} \\, z'_{j}) \\\\\n",
    "&= \\mathbf{p}_{i}^{\\top}\\mathbf{p}_{i} + \\mathbf{s}_{j}^{\\top}\\mathbf{s}_{j} - 2 \\, \\mathbf{p}_{i}^{\\top}\\mathbf{s}_{j} \\quad .\n",
    "\\end{split}\n",
    "$$"
   ]
  },
  {
   "cell_type": "markdown",
   "id": "803c3051",
   "metadata": {},
   "source": [
    "By using the $d^{2}_{ij}$ defined above, we can rewrite the SEDM $\\mathbf{D}$ as follows:\n",
    "\n",
    "$$\n",
    "\\mathbf{D} = \\mathbf{D}_{1} + \\mathbf{D}_{2} - \\mathbf{D}_{3} \\: ,\n",
    "$$\n",
    "\n",
    "where"
   ]
  },
  {
   "cell_type": "markdown",
   "id": "79bb21eb",
   "metadata": {},
   "source": [
    "$$\n",
    "\\mathbf{D}_{1} \n",
    "= \\begin{bmatrix}\n",
    "\\mathbf{p}_{0}^{\\top}\\mathbf{p}_{0} & \\cdots & \\mathbf{p}_{0}^{\\top}\\mathbf{p}_{0} \\\\\n",
    "\\vdots & & \\vdots \\\\\n",
    "\\mathbf{p}_{N-1}^{\\top}\\mathbf{p}_{N-1} & \\cdots & \\mathbf{p}_{N-1}^{\\top}\\mathbf{p}_{N-1}\n",
    "\\end{bmatrix}_{\\: N \\times M} \n",
    "= \\quad \\begin{bmatrix}\n",
    "\\mathbf{p}_{0}^{\\top}\\mathbf{p}_{0} \\\\\n",
    "\\vdots \\\\\n",
    "\\mathbf{p}_{N-1}^{\\top}\\mathbf{p}_{N-1}\n",
    "\\end{bmatrix}_{N \\times 1} \\cdot \\quad \n",
    "\\begin{bmatrix} 1 \\cdots 1 \\end{bmatrix}_{1 \\times M} \\quad ,\n",
    "$$"
   ]
  },
  {
   "cell_type": "markdown",
   "id": "c4cc2eb8",
   "metadata": {},
   "source": [
    "$$\n",
    "\\mathbf{D}_{2} = \\begin{bmatrix}\n",
    "\\mathbf{s}_{0}^{\\top}\\mathbf{s}_{0} & \\cdots & \\mathbf{s}_{M-1}^{\\top}\\mathbf{s}_{M-1} \\\\\n",
    "\\vdots & & \\vdots \\\\\n",
    "\\mathbf{s}_{0}^{\\top}\\mathbf{s}_{0} & \\cdots & \\mathbf{s}_{M-1}^{\\top}\\mathbf{s}_{M-1}\n",
    "\\end{bmatrix}_{\\: N \\times M} \n",
    "= \\quad \\begin{bmatrix} 1 \\\\ \\vdots \\\\ 1 \\end{bmatrix}_{N \\times 1} \\cdot \\quad\n",
    "\\begin{bmatrix}\n",
    "\\mathbf{s}_{0}^{\\top}\\mathbf{s}_{0} & \\cdots & \\mathbf{s}_{M-1}^{\\top}\\mathbf{s}_{M-1} \n",
    "\\end{bmatrix}_{\\: 1 \\times M}\n",
    "$$"
   ]
  },
  {
   "cell_type": "markdown",
   "id": "34a7f726",
   "metadata": {},
   "source": [
    "and"
   ]
  },
  {
   "cell_type": "markdown",
   "id": "401d5391",
   "metadata": {},
   "source": [
    "$$\n",
    "\\mathbf{D}_{3} = 2 \\, \\begin{bmatrix}\n",
    "\\mathbf{p}_{0}^{\\top}\\mathbf{s}_{0} & \\cdots & \\mathbf{p}_{0}^{\\top}\\mathbf{s}_{M-1} \\\\\n",
    "\\vdots & & \\vdots \\\\\n",
    "\\mathbf{p}_{N-1}^{\\top}\\mathbf{s}_{0} & \\cdots & \\mathbf{p}_{N-1}^{\\top}\\mathbf{s}_{M-1}\n",
    "\\end{bmatrix}_{\\: N \\times M} = 2 \\, \\mathbf{P}^{\\top} \\mathbf{S} \\quad .\n",
    "$$"
   ]
  },
  {
   "cell_type": "markdown",
   "id": "745c6ee0",
   "metadata": {},
   "source": [
    "Now, we can compute the SEDM matrix $\\mathbf{D}$ as the sum of three matrices $\\mathbf{D}_{1}$, $\\mathbf{D}_{2}$ and $\\mathbf{D}_{3}$. In doing this, we can use [**Numpy broadcasting rules**](https://numpy.org/doc/stable/user/theory.broadcasting.html#array-broadcasting-in-numpy) to avoid creating the full matrices $\\mathbf{D}_{1}$ and $\\mathbf{D}_{2}$. For details, see the [`notes`](https://github.com/birocoles/SEDM/blob/main/notes/Euclidean_distance_matrix.pdf) and the function [`sedm.vectorized`](https://github.com/birocoles/SEDM/blob/main/code/sedm.py#L87)."
   ]
  },
  {
   "cell_type": "code",
   "execution_count": null,
   "id": "a5255c24",
   "metadata": {},
   "outputs": [],
   "source": []
  }
 ],
 "metadata": {
  "kernelspec": {
   "display_name": "Python 3",
   "language": "python",
   "name": "python3"
  },
  "language_info": {
   "codemirror_mode": {
    "name": "ipython",
    "version": 3
   },
   "file_extension": ".py",
   "mimetype": "text/x-python",
   "name": "python",
   "nbconvert_exporter": "python",
   "pygments_lexer": "ipython3",
   "version": "3.7.7"
  }
 },
 "nbformat": 4,
 "nbformat_minor": 5
}
